{
 "cells": [
  {
   "cell_type": "code",
   "execution_count": 1,
   "metadata": {},
   "outputs": [
    {
     "name": "stdout",
     "output_type": "stream",
     "text": [
      "<re.Match object; span=(0, 12), match='start coding'>\n"
     ]
    }
   ],
   "source": [
    "import re\n",
    "command = 'start coding'\n",
    "\n",
    "if re.fullmatch('start\\s+(\\w+)', command):\n",
    "    session_name = re.search('start\\s+(\\w+)', command)\n",
    "    print(session_name)\n",
    "else:\n",
    "    print('not match')"
   ]
  }
 ],
 "metadata": {
  "kernelspec": {
   "display_name": "Python 3",
   "language": "python",
   "name": "python3"
  },
  "language_info": {
   "codemirror_mode": {
    "name": "ipython",
    "version": 3
   },
   "file_extension": ".py",
   "mimetype": "text/x-python",
   "name": "python",
   "nbconvert_exporter": "python",
   "pygments_lexer": "ipython3",
   "version": "3.11.0"
  }
 },
 "nbformat": 4,
 "nbformat_minor": 2
}
